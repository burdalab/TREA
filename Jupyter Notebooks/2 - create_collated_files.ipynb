{
 "cells": [
  {
   "cell_type": "code",
   "execution_count": 1,
   "metadata": {},
   "outputs": [],
   "source": [
    "import pandas as pd\n",
    "import numpy as np\n",
    "import os"
   ]
  },
  {
   "cell_type": "code",
   "execution_count": 2,
   "metadata": {},
   "outputs": [],
   "source": [
    "def save_file(df,filename,table_id):\n",
    "    if not os.path.exists('../Output Files/Collated Data/Collated Table'+table_id):\n",
    "        os.mkdir('../Output Files/Collated Data/Collated Table'+table_id)\n",
    "    \n",
    "    df.to_csv('../Output Files/Collated Data/Collated Table'+table_id+'/'+filename+\".csv\",index=False)"
   ]
  },
  {
   "cell_type": "code",
   "execution_count": 3,
   "metadata": {},
   "outputs": [],
   "source": [
    "diseases ={\n",
    "          'LPS_Cord':'LPS_Cord',\n",
    "          }"
   ]
  },
  {
   "cell_type": "code",
   "execution_count": 4,
   "metadata": {},
   "outputs": [
    {
     "name": "stdout",
     "output_type": "stream",
     "text": [
      "LPS_Cord\n"
     ]
    }
   ],
   "source": [
    "for disease in diseases.items():\n",
    "    print(disease[0])\n",
    "    df = pd.read_csv(\"../Output Files/TR List/\"+disease[1]+\".csv\")[['term','genes','logFC']]\n",
    "    df.rename(columns={'logFC':'logFC_TR'},inplace=True)\n",
    "    df_temp = df[['term','genes']]\n",
    "    df_temp[\"index1\"] = df_temp.index\n",
    "    df_temp = (df_temp.set_index(['index1','term'])\n",
    "    .stack()\n",
    "    .str.split(';',expand=True)\n",
    "    .stack()\n",
    "    .unstack(-2)\n",
    "    .reset_index(-1,drop = True)\n",
    "    .reset_index()\n",
    "    .drop(\"index1\",axis=1))\n",
    "    \n",
    "    df = df.merge(df_temp, how=\"left\",  left_on='term', right_on='term').drop(\"genes_x\",axis=1).rename(columns={'genes_y':'genes'})\n",
    "    \n",
    "    df_deg = pd.read_csv(\"../Sample Files/DEG/\"+disease[0]+'.csv')[[\"Refseq_ID\",\"logFC\"]].rename(columns={'Refseq_ID':'genes','logFC':'logFC_gene'})\n",
    "    df = df.merge(df_deg, how=\"left\",  left_on='genes', right_on='genes')\n",
    "    df[\"genes\"] = df[\"genes\"].str.capitalize().str.strip()\n",
    "    df.replace(\"\",np.nan,inplace=True)\n",
    "    df.dropna(axis=0,subset=[\"genes\"],inplace=True)\n",
    "    df.drop_duplicates(subset=[\"term\",\"genes\"],inplace=True)\n",
    "    save_file(df[[\"term\",\"genes\",\"logFC_TR\",\"logFC_gene\"]] ,disease[1],'2')"
   ]
  },
  {
   "cell_type": "code",
   "execution_count": 5,
   "metadata": {},
   "outputs": [],
   "source": [
    "def calc_activation_state(df, i, cutoff_percent, df_direction):\n",
    "    positive = len(df_direction[df_direction>0])\n",
    "    negative = len(df_direction[df_direction<0])\n",
    "    total = len(df_direction)\n",
    "    if (positive/total)>cutoff_percent:\n",
    "        df.loc[i,'Direction-'+str(cutoff_percent*100)+'%'] = '+'\n",
    "        df.loc[i,'Activation State-'+str(cutoff_percent*100)+'%'] = len(df_direction[df_direction>0])/len(target_genes)\n",
    "    elif (negative/total)>cutoff_percent:\n",
    "        df.loc[i,'Direction-'+str(cutoff_percent*100)+'%'] = '-'\n",
    "        df.loc[i,'Activation State-'+str(cutoff_percent*100)+'%'] = -1*len(df_direction[df_direction<0])/len(target_genes)\n",
    "    else:\n",
    "        df.loc[i,'Direction-'+str(cutoff_percent*100)+'%'] = '='\n",
    "        df.loc[i,'Activation State-'+str(cutoff_percent*100)+'%'] = 0"
   ]
  },
  {
   "cell_type": "code",
   "execution_count": 6,
   "metadata": {},
   "outputs": [
    {
     "name": "stdout",
     "output_type": "stream",
     "text": [
      "LPS_Cord\n"
     ]
    },
    {
     "name": "stderr",
     "output_type": "stream",
     "text": [
      "c:\\python36\\lib\\site-packages\\ipykernel_launcher.py:10: SettingWithCopyWarning: \n",
      "A value is trying to be set on a copy of a slice from a DataFrame\n",
      "\n",
      "See the caveats in the documentation: http://pandas.pydata.org/pandas-docs/stable/indexing.html#indexing-view-versus-copy\n",
      "  # Remove the CWD from sys.path while we load stuff.\n"
     ]
    }
   ],
   "source": [
    "for disease in diseases.items():\n",
    "    print(disease[0])\n",
    "    df_deg = pd.read_csv(\"../Sample Files/DEG/\"+disease[0]+'.csv')[[\"Refseq_ID\",\"logFC\"]].rename(columns={'Refseq_ID':'genes','logFC':'logFC_gene'})\n",
    "    len_deg = len(df_deg)\n",
    "    df = pd.read_csv(\"../Output Files/TR List/\"+disease[1]+\".csv\")\n",
    "    df.rename(columns={'logFC':'logFC_TR'},inplace=True)\n",
    "    df['weight'] = 0\n",
    "    df_collated = pd.read_csv('../Output Files/Collated Data/Collated Table2/'+disease[0]+\".csv\")\n",
    "    df_collated['direction'] = -1\n",
    "    df_collated['direction'][df_collated['logFC_gene']>0] = 1\n",
    "\n",
    "    for i in range(len(df)):\n",
    "        target_genes = df.iloc[i]['genes'].split(';')\n",
    "        df_direction = df_collated['direction'][df_collated['term']==df.iloc[i]['term']]\n",
    "        direction = df_direction.sum()\n",
    "        df.loc[i,'weight'] = len(target_genes)/len_deg\n",
    "        calc_activation_state(df, i, 0.5, df_direction)\n",
    "        calc_activation_state(df, i, 0.66, df_direction)\n",
    "        calc_activation_state(df, i, 0.75, df_direction)\n",
    "    save_file(df ,disease[1],'1')"
   ]
  },
  {
   "cell_type": "code",
   "execution_count": null,
   "metadata": {},
   "outputs": [],
   "source": []
  }
 ],
 "metadata": {
  "kernelspec": {
   "display_name": "Python 3",
   "language": "python",
   "name": "python3"
  },
  "language_info": {
   "codemirror_mode": {
    "name": "ipython",
    "version": 3
   },
   "file_extension": ".py",
   "mimetype": "text/x-python",
   "name": "python",
   "nbconvert_exporter": "python",
   "pygments_lexer": "ipython3",
   "version": "3.6.6"
  }
 },
 "nbformat": 4,
 "nbformat_minor": 2
}
